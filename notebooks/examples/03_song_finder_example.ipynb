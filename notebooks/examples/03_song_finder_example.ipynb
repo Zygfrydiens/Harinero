{
 "cells": [
  {
   "cell_type": "markdown",
   "metadata": {},
   "source": [
    "# Song Finder - Example\n",
    "\n",
    "This notebook demonstrates how to use the SongFinder class to search and retrieve songs from the database. The SongFinder provides:\n",
    "- Direct song retrieval by ID\n",
    "- Search by various criteria (author, year, genre, singer)\n",
    "- Fuzzy name matching for song titles\n",
    "- Finding dissimilar songs for ML training\n",
    "\n",
    "First, let's import our required components and set up the finder with test configuration."
   ]
  },
  {
   "cell_type": "code",
   "execution_count": null,
   "metadata": {},
   "outputs": [],
   "source": [
    "from harinero.core.database import SongFinder\n",
    "from harinero.utils import load_config\n",
    "from pathlib import Path\n",
    "\n",
    "# Load test configuration\n",
    "config = load_config(\"/path/to/config.json\") # Path to your config file\n",
    "\n",
    "# Initialize SongFinder\n",
    "finder = SongFinder(config)\n",
    "print(\"SongFinder initialized with test configuration\")"
   ]
  },
  {
   "cell_type": "markdown",
   "metadata": {},
   "source": [
    "## 1. Basic Song Retrieval\n",
    "\n",
    "Let's start by retrieving a song by its ID and examining its properties."
   ]
  },
  {
   "cell_type": "code",
   "execution_count": null,
   "metadata": {},
   "outputs": [],
   "source": [
    "# Get a song by ID\n",
    "try:\n",
    "    song = finder.get_song(1)\n",
    "    print(\"Found song:\")\n",
    "    print(song)\n",
    "except ValueError as e:\n",
    "    print(f\"Error: {e}\")\n",
    "\n",
    "# Try invalid ID\n",
    "try:\n",
    "    invalid_song = finder.get_song(-1)\n",
    "except ValueError as e:\n",
    "    print(f\"\\nExpected error with invalid ID: {e}\")"
   ]
  },
  {
   "cell_type": "markdown",
   "metadata": {},
   "source": [
    "## 2. Searching by Criteria\n",
    "\n",
    "The SongFinder allows searching for songs using various criteria. All criteria are optional and can be combined."
   ]
  },
  {
   "cell_type": "code",
   "execution_count": null,
   "metadata": {},
   "outputs": [],
   "source": [
    "# Search by author\n",
    "print(\"Songs by D'Arienzo:\")\n",
    "darienzo_songs = finder.get_songs_by_criteria(author_name=\"Juan D'Arienzo\")\n",
    "for song in darienzo_songs[:3]:  # Show first 3\n",
    "    print(f\"- {song.name} ({song.year})\")\n",
    "\n",
    "# Search by year range\n",
    "print(\"\\nSongs from 1940-1945:\")\n",
    "forties_songs = finder.get_songs_by_criteria(year=(1940, 1945))\n",
    "for song in forties_songs[:3]:\n",
    "    print(f\"- {song.name} by {song.author_name} ({song.year})\")\n",
    "\n",
    "# Combined search\n",
    "print(\"\\nTangos by D'Arienzo from 1940-1945:\")\n",
    "specific_songs = finder.get_songs_by_criteria(\n",
    "    author_name=\"Juan D'Arienzo\",\n",
    "    year=(1940, 1945),\n",
    "    genre=\"tango\"\n",
    ")\n",
    "for song in specific_songs[:3]:\n",
    "    print(f\"- {song.name} ({song.year})\")"
   ]
  },
  {
   "cell_type": "markdown",
   "metadata": {},
   "source": [
    "## 3. Fuzzy Name Matching\n",
    "\n",
    "The SongFinder can find songs with similar names, handling spelling variations and accents."
   ]
  },
  {
   "cell_type": "code",
   "execution_count": null,
   "metadata": {},
   "outputs": [],
   "source": [
    "# Search with exact name\n",
    "print(\"Searching for 'La Cumparsita':\")\n",
    "matches, details = finder.get_songs_by_name(\"La Cumparsita\")\n",
    "for song in matches:\n",
    "    print(f\"- {song.name} by {song.author_name} ({song.year})\")\n",
    "\n",
    "# Search with misspelling\n",
    "print(\"\\nSearching with misspelling 'La Comparsita':\")\n",
    "matches, details = finder.get_songs_by_name(\"La Comparsita\")\n",
    "for song in matches:\n",
    "    print(f\"- {song.name} by {song.author_name} ({song.year})\")\n",
    "\n",
    "# Search without accents\n",
    "print(\"\\nSearching without accent 'Punalada':\")\n",
    "matches, details = finder.get_songs_by_name(\"Punalada\")\n",
    "for song in matches:\n",
    "    print(f\"- {song.name} by {song.author_name} ({song.year})\")"
   ]
  },
  {
   "cell_type": "markdown",
   "metadata": {},
   "source": [
    "## 4. Finding Dissimilar Songs\n",
    "\n",
    "For ML training, we often need to find songs that are intentionally dissimilar to a reference song."
   ]
  },
  {
   "cell_type": "code",
   "execution_count": null,
   "metadata": {},
   "outputs": [],
   "source": [
    "# Get a reference song\n",
    "reference_song = finder.get_song(1)\n",
    "\n",
    "# Find dissimilar songs\n",
    "print(f\"Finding songs dissimilar to: {reference_song.name}\")\n",
    "dissimilar_songs = finder.get_dissimilar_songs(\n",
    "    reference_song,\n",
    "    sample_size=5,  # Get 5 dissimilar songs\n",
    "    year_range=10   # Weight by 10-year range\n",
    ")\n",
    "\n",
    "print(\"\\nDissimilar songs found:\")\n",
    "for song in dissimilar_songs:\n",
    "    print(f\"- {song.name} by {song.author_name}\")\n",
    "    print(f\"  Genre: {song.genre}, Year: {song.year}, Singer: {song.singer}\")"
   ]
  },
  {
   "cell_type": "markdown",
   "metadata": {},
   "source": [
    "## Handling Errors\n",
    "\n",
    "Let's see how SongFinder handles various error conditions."
   ]
  },
  {
   "cell_type": "code",
   "execution_count": null,
   "metadata": {},
   "outputs": [],
   "source": [
    "# Try invalid author\n",
    "try:\n",
    "    songs = finder.get_songs_by_criteria(author_name=\"Nonexistent Orchestra\")\n",
    "except ValueError as e:\n",
    "    print(f\"Invalid author error: {e}\")\n",
    "\n",
    "# Try invalid genre\n",
    "try:\n",
    "    songs = finder.get_songs_by_criteria(genre=\"invalid_genre\")\n",
    "except ValueError as e:\n",
    "    print(f\"\\nInvalid genre error: {e}\")\n",
    "\n",
    "# Try invalid year format\n",
    "try:\n",
    "    songs = finder.get_songs_by_criteria(year=\"1940\")\n",
    "except ValueError as e:\n",
    "    print(f\"\\nInvalid year format error: {e}\")"
   ]
  },
  {
   "cell_type": "markdown",
   "metadata": {},
   "source": [
    "## Best Practices for Using SongFinder\n",
    "\n",
    "1. **Error Handling**:\n",
    "   - Always wrap SongFinder calls in try/except blocks\n",
    "   - Handle NotFoundError for missing songs\n",
    "   - Verify search criteria before querying\n",
    "\n",
    "2. **Search Optimization**:\n",
    "   - Use the most specific criteria available\n",
    "   - Combine criteria to narrow results\n",
    "   - Consider year ranges instead of exact years\n",
    "\n",
    "3. **Name Matching**:\n",
    "   - Use `get_songs_by_name()` for fuzzy matching\n",
    "   - Normalize names before searching\n",
    "   - Check multiple name variations if needed\n",
    "\n",
    "4. **ML Dataset Creation**:\n",
    "   - Use `get_dissimilar_songs()` for negative examples\n",
    "   - Adjust year_range based on your needs\n",
    "   - Verify sample_size is appropriate\n",
    "\n",
    "5. **Performance**:\n",
    "   - Cache frequently accessed songs\n",
    "   - Batch similar queries together\n",
    "   - Use specific criteria to reduce result sets"
   ]
  }
 ],
 "metadata": {
  "kernelspec": {
   "display_name": "Python 3 (ipykernel)",
   "language": "python",
   "name": "python3"
  },
  "language_info": {
   "codemirror_mode": {
    "name": "ipython",
    "version": 3
   },
   "file_extension": ".py",
   "mimetype": "text/x-python",
   "name": "python",
   "nbconvert_exporter": "python",
   "pygments_lexer": "ipython3",
   "version": "3.8.20"
  }
 },
 "nbformat": 4,
 "nbformat_minor": 4
}
