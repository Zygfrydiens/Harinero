{
 "cells": [
  {
   "cell_type": "code",
   "execution_count": 1,
   "id": "5d559077-3bbd-4c7a-8a03-43ef02d5d8f2",
   "metadata": {},
   "outputs": [
    {
     "name": "stdout",
     "output_type": "stream",
     "text": [
      "Testing imports...\n",
      "✓ Core structures imported\n",
      "✓ Feature extraction components imported\n",
      "✓ Feature encoding components imported\n",
      "\n",
      "All imports successful!\n",
      "\n",
      "Test song created:\n",
      "Song: Test Song (ID: 1)\n",
      "Artist: Test Singer\n",
      "Genre: tango\n",
      "Track Number: 1\n",
      "Year: 1940\n",
      "Album: Test Album\n",
      "Author: Test Author\n",
      "Tempo: 120.0\n",
      "Beat Strength: 0.8\n",
      "Pitch: 440.0\n",
      "Brightness: 0.6\n",
      "\n"
     ]
    }
   ],
   "source": [
    "# Test basic imports\n",
    "print(\"Testing imports...\")\n",
    "\n",
    "# Core structures\n",
    "from harinero import SongStruct, TandaStruct, MilongaStruct\n",
    "print(\"✓ Core structures imported\")\n",
    "\n",
    "# Feature extraction\n",
    "from harinero import (\n",
    "    BASIC_FEATURES,\n",
    "    SPECTRAL_FEATURES,\n",
    "    RHYTHM_FEATURES,\n",
    "    AVAILABLE_EXTRACTORS,\n",
    "    FeatureExtractor\n",
    ")\n",
    "print(\"✓ Feature extraction components imported\")\n",
    "\n",
    "# Feature encoding\n",
    "from harinero import (\n",
    "    encode_feature_names,\n",
    "    decode_feature_names,\n",
    "    feature_groups\n",
    ")\n",
    "print(\"✓ Feature encoding components imported\")\n",
    "\n",
    "print(\"\\nAll imports successful!\")\n",
    "\n",
    "# Test basic functionality\n",
    "test_song = SongStruct(\n",
    "    song_id=1,\n",
    "    name=\"Test Song\",\n",
    "    singer=\"Test Singer\",\n",
    "    genre=\"tango\",\n",
    "    track_number=1,\n",
    "    year=1940,\n",
    "    album_name=\"Test Album\",\n",
    "    author_name=\"Test Author\",\n",
    "    file_path=\"test.mp3\",\n",
    "    tempo=120.0,\n",
    "    beat_strength=0.8,\n",
    "    pitch=440.0,\n",
    "    brightness=0.6\n",
    ")\n",
    "\n",
    "print(\"\\nTest song created:\")\n",
    "print(test_song)"
   ]
  },
  {
   "cell_type": "code",
   "execution_count": null,
   "id": "7d302ad4-7dd6-4c68-b5fe-ef29e7b09538",
   "metadata": {},
   "outputs": [],
   "source": [
    "import sys\n",
    "print(\"Python path:\", sys.path)  # Let's see where Python is looking for modules\n",
    "\n",
    "try:\n",
    "    import harinero\n",
    "    print(\"Package location:\", harinero_tanda.__file__)\n",
    "except ImportError as e:\n",
    "    print(\"Import failed:\", e)"
   ]
  }
 ],
 "metadata": {
  "kernelspec": {
   "display_name": "Python 3 (ipykernel)",
   "language": "python",
   "name": "python3"
  },
  "language_info": {
   "codemirror_mode": {
    "name": "ipython",
    "version": 3
   },
   "file_extension": ".py",
   "mimetype": "text/x-python",
   "name": "python",
   "nbconvert_exporter": "python",
   "pygments_lexer": "ipython3",
   "version": "3.8.20"
  }
 },
 "nbformat": 4,
 "nbformat_minor": 5
}
