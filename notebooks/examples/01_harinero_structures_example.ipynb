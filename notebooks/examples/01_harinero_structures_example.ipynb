{
 "cells": [
  {
   "cell_type": "markdown",
   "metadata": {},
   "source": [
    "# Core Structures - Example\n",
    "\n",
    "This notebook demonstrates the usage of core data structures in the Harinero Tanda Creator project:\n",
    "- SongStruct: For representing individual tango songs\n",
    "- TandaStruct: For organizing songs into tandas\n",
    "\n",
    "First, let's import our required structures."
   ]
  },
  {
   "cell_type": "code",
   "execution_count": null,
   "metadata": {},
   "outputs": [],
   "source": [
    "from harinero import SongStruct, TandaStruct"
   ]
  },
  {
   "cell_type": "markdown",
   "metadata": {},
   "source": [
    "## 1. Creating and Working with SongStruct\n",
    "\n",
    "Let's create our first song and explore its basic properties."
   ]
  },
  {
   "cell_type": "code",
   "execution_count": null,
   "metadata": {},
   "outputs": [],
   "source": [
    "# Create a sample song\n",
    "song = SongStruct(\n",
    "    song_id=1,\n",
    "    name=\"La Cumparsita\",\n",
    "    singer=\"Roberto Díaz\",\n",
    "    genre=\"Tango\",\n",
    "    track_number=1,\n",
    "    year=1928,\n",
    "    album_name=\"Golden Age Tangos\",\n",
    "    author_name=\"Juan D'Arienzo\",\n",
    "    file_path=\"/path/to/audio.mp3\",  # Replace with actual path\n",
    "    tempo=118.5,\n",
    "    beat_strength=0.8,\n",
    "    pitch=440.0,\n",
    "    brightness=0.7\n",
    ")\n",
    "\n",
    "print(f\"Created song: {song.name} by {song.author_name}\")\n",
    "print(f\"\\nSong details:\")\n",
    "print(song)"
   ]
  },
  {
   "cell_type": "markdown",
   "metadata": {},
   "source": [
    "### Using the extract() Method\n",
    "\n",
    "The `extract()` method is useful for retrieving song metadata, optionally with a year range for similarity matching."
   ]
  },
  {
   "cell_type": "code",
   "execution_count": null,
   "metadata": {},
   "outputs": [],
   "source": [
    "# Basic extraction (exact year)\n",
    "author, year, genre, singer = song.extract()\n",
    "print(\"Basic extract:\")\n",
    "print(f\"Author: {author}\")\n",
    "print(f\"Year: {year}\")\n",
    "print(f\"Genre: {genre}\")\n",
    "print(f\"Singer: {singer}\")\n",
    "\n",
    "# Extract with 5-year range\n",
    "author, year_range, genre, singer = song.extract(year_range=5)\n",
    "print(\"\\nExtract with 5-year range:\")\n",
    "print(f\"Author: {author}\")\n",
    "print(f\"Year range: {year_range}\")  # Will show (1923, 1933)\n",
    "print(f\"Genre: {genre}\")\n",
    "print(f\"Singer: {singer}\")"
   ]
  },
  {
   "cell_type": "markdown",
   "metadata": {},
   "source": [
    "### Playing Audio\n",
    "\n",
    "SongStruct provides two methods for playing audio:\n",
    "- `play()`: Creates an IPython Audio widget (ideal for notebooks)\n",
    "- `playex()`: Uses system's default audio player\n",
    "\n",
    "Note: Make sure to replace \"path to your song\" with actual audio file path for these to work."
   ]
  },
  {
   "cell_type": "code",
   "execution_count": null,
   "metadata": {},
   "outputs": [],
   "source": [
    "# Using play() for notebook playback\n",
    "song.play()\n",
    "\n",
    "#Using play() as a widget\n",
    "#audio_widget = song.play()\n",
    "#display(audio_widget)\n",
    "\n",
    "# Use system player:\n",
    "# song.playex()"
   ]
  },
  {
   "cell_type": "markdown",
   "metadata": {},
   "source": [
    "## 2. Creating a Tanda\n",
    "\n",
    "Now let's create multiple songs and combine them into a tanda. In tango music, a tanda is a set of 3-4 similar songs played together."
   ]
  },
  {
   "cell_type": "code",
   "execution_count": null,
   "metadata": {},
   "outputs": [],
   "source": [
    "# Create multiple songs for our tanda\n",
    "songs = [\n",
    "    SongStruct(\n",
    "        song_id=1,\n",
    "        name=\"La Cumparsita\",\n",
    "        singer=\"Roberto Díaz\",\n",
    "        genre=\"Tango\",\n",
    "        track_number=1,\n",
    "        year=1928,\n",
    "        album_name=\"Golden Age Tangos Vol.1\",\n",
    "        author_name=\"Juan D'Arienzo\",\n",
    "        file_path=\"/path/to/audio.mp3\",\n",
    "        tempo=118.5,\n",
    "        beat_strength=0.8,\n",
    "        pitch=440.0,\n",
    "        brightness=0.7\n",
    "    ),\n",
    "    SongStruct(\n",
    "        song_id=2,\n",
    "        name=\"El Choclo\",\n",
    "        singer=\"Angel D'Agostino\",\n",
    "        genre=\"Tango\",\n",
    "        track_number=1,\n",
    "        year=1930,\n",
    "        album_name=\"Golden Age Tangos Vol.2\",\n",
    "        author_name=\"Juan D'Arienzo\",\n",
    "        file_path=\"/path/to/audio.mp3\",\n",
    "        tempo=120.0,\n",
    "        beat_strength=0.85,\n",
    "        pitch=442.0,\n",
    "        brightness=0.72\n",
    "    ),\n",
    "    SongStruct(\n",
    "        song_id=3,\n",
    "        name=\"La Puñalada\",\n",
    "        singer=\"Roberto Díaz\",\n",
    "        genre=\"Tango\",\n",
    "        track_number=1,\n",
    "        year=1929,\n",
    "        album_name=\"Golden Age Tangos Vol.3\",\n",
    "        author_name=\"Juan D'Arienzo\",\n",
    "        file_path=\"/path/to/audio.mp3\",\n",
    "        tempo=119.0,\n",
    "        beat_strength=0.82,\n",
    "        pitch=441.0,\n",
    "        brightness=0.71\n",
    "    ),\n",
    "    SongStruct(\n",
    "        song_id=4,\n",
    "        name=\"Derecho Viejo\",\n",
    "        singer=\"Roberto Díaz\",\n",
    "        genre=\"Tango\",\n",
    "        track_number=1,\n",
    "        year=1928,\n",
    "        album_name=\"Golden Age Tangos Vol.4\",\n",
    "        author_name=\"Juan D'Arienzo\",\n",
    "        file_path=\"/path/to/audio.mp3\",\n",
    "        tempo=121.0,\n",
    "        beat_strength=0.83,\n",
    "        pitch=440.5,\n",
    "        brightness=0.69\n",
    "    )\n",
    "]\n",
    "\n",
    "# Create a tanda from these songs\n",
    "tanda = TandaStruct(\n",
    "    tanda_number=1,\n",
    "    genre=\"Tango\",\n",
    "    author=\"Juan D'Arienzo\",\n",
    "    singer=\"Roberto Díaz\",\n",
    "    average_tempo=119.6,\n",
    "    average_pitch=440.875,\n",
    "    average_brightness=0.705,\n",
    "    average_beat_strength=0.825,\n",
    "    songs=songs\n",
    ")"
   ]
  },
  {
   "cell_type": "code",
   "execution_count": null,
   "metadata": {},
   "outputs": [],
   "source": [
    "# Playing a tanda in notebook\n",
    "print(\"Playing full tanda sequentially in notebook:\")\n",
    "tanda.play()  # This will create audio widgets for all songs in sequence\n",
    "\n",
    "# Using system audio player for tanda\n",
    "#print(\"\\nUsing system audio player:\")\n",
    "# tanda.playex()  # This would play all songs in sequence using system player\n",
    "\n",
    "# Extracting songs from tanda\n",
    "print(\"\\nExtracting songs from tanda:\")\n",
    "songs_in_tanda = tanda.extract()  # Returns List[SongStruct]\n",
    "for idx, song in enumerate(songs_in_tanda, 1):\n",
    "    print(f\"{idx}. {song.name} - {song.tempo} BPM\")"
   ]
  },
  {
   "cell_type": "code",
   "execution_count": null,
   "metadata": {},
   "outputs": [],
   "source": [
    "# Display detailed tanda information\n",
    "print(f\"Tanda #{tanda.tanda_number}\")\n",
    "print(f\"Genre: {tanda.genre}\")\n",
    "print(f\"Author: {tanda.author}\")\n",
    "print(f\"Singer: {tanda.singer}\")\n",
    "print(f\"\\nAverage Metrics:\")\n",
    "print(f\"Tempo: {tanda.average_tempo:.1f} BPM\")\n",
    "print(f\"Pitch: {tanda.average_pitch:.1f} Hz\")\n",
    "print(f\"Brightness: {tanda.average_brightness:.3f}\")\n",
    "print(f\"Beat Strength: {tanda.average_beat_strength:.3f}\")\n",
    "\n",
    "print(\"\\nSongs in order:\")\n",
    "for idx, song in enumerate(tanda.songs, 1):\n",
    "    print(f\"{idx}. {song.name} ({song.year}) - {song.tempo} BPM\")"
   ]
  },
  {
   "cell_type": "markdown",
   "metadata": {},
   "source": [
    "## Tips for Working with Tandas\n",
    "\n",
    "1. **File Paths**: Always use absolute paths or paths relative to your project root\n",
    "2. **Tempo Progression**: In traditional tandas, tempo might increases slightly through the set\n",
    "3. **Consistency**: Songs in a tanda should be from the same:\n",
    "   - Orchestra (author)\n",
    "   - Genre\n",
    "   - Era (typically within a few years)\n",
    "   - Singer (when possible)\n",
    "\n",
    "4. **Audio Quality**: Ensure all audio files are:\n",
    "   - Of similar quality\n",
    "   - Properly normalized\n",
    "   - In a supported format (MP3, WAV)\n",
    "5. **Tanda generator**: use tanda generator module for automatic checking if the tanda is properly created"
   ]
  },
  {
   "cell_type": "code",
   "execution_count": null,
   "metadata": {},
   "outputs": [],
   "source": []
  }
 ],
 "metadata": {
  "kernelspec": {
   "display_name": "Python 3 (ipykernel)",
   "language": "python",
   "name": "python3"
  },
  "language_info": {
   "codemirror_mode": {
    "name": "ipython",
    "version": 3
   },
   "file_extension": ".py",
   "mimetype": "text/x-python",
   "name": "python",
   "nbconvert_exporter": "python",
   "pygments_lexer": "ipython3",
   "version": "3.8.20"
  }
 },
 "nbformat": 4,
 "nbformat_minor": 4
}
