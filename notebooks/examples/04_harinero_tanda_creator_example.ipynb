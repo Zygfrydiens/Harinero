{
 "cells": [
  {
   "cell_type": "markdown",
   "metadata": {},
   "source": [
    "# Harinero Tanda Creator - Example\n",
    "\n",
    "This notebook demonstrates how to use the machine learning components of Harinero Tanda Creator to:\n",
    "- Train similarity models on song pairs\n",
    "- Make similarity predictions\n",
    "- Generate tandas using ML-based suggestions\n",
    "\n",
    "First, let's import our required components and set up the environment."
   ]
  },
  {
   "cell_type": "code",
   "execution_count": null,
   "metadata": {},
   "outputs": [],
   "source": [
    "from harinero.core.database import SongFinder\n",
    "from harinero.ml.preprocessing import Preprocessor \n",
    "from harinero.ml.models import KerasSongModel\n",
    "from harinero.core import HarineroTandaCreator\n",
    "from harinero.utils import load_config\n",
    "import pandas as pd\n",
    "import numpy as np\n",
    "\n",
    "# Load configuration\n",
    "config = load_config(\"/path/to/config.json\")\n",
    "\n",
    "# Initialize components\n",
    "creator = HarineroTandaCreator(config)\n",
    "print(\"Harinero ML components initialized\")"
   ]
  },
  {
   "cell_type": "markdown",
   "metadata": {},
   "source": [
    "## 1. Training a Similarity Model\n",
    "\n",
    "We'll train a model to recognize similar songs. The training process:\n",
    "1. Selects a reference song\n",
    "2. Finds similar/dissimilar examples\n",
    "3. Trains the model on these pairs"
   ]
  },
  {
   "cell_type": "code",
   "execution_count": null,
   "metadata": {},
   "outputs": [],
   "source": [
    "# Train on a specific song\n",
    "reference_song_id = 1  # La Cumparsita by D'Arienzo\n",
    "\n",
    "try:\n",
    "    # Train the model\n",
    "    history, results = creator.train_on_song(reference_song_id)\n",
    "    \n",
    "    print(\"\\nTraining Results:\")\n",
    "    print(f\"Final Loss: {results[0]:.4f}\")\n",
    "    print(f\"Final Accuracy: {results[1]:.4f}\")\n",
    "    \n",
    "    # Plot training history\n",
    "    plt.figure(figsize=(10, 4))\n",
    "    plt.subplot(1, 2, 1)\n",
    "    plt.plot(history.history['loss'], label='Training Loss')\n",
    "    plt.plot(history.history['val_loss'], label='Validation Loss')\n",
    "    plt.title('Model Loss')\n",
    "    plt.legend()\n",
    "    \n",
    "    plt.subplot(1, 2, 2)\n",
    "    plt.plot(history.history['accuracy'], label='Training Accuracy')\n",
    "    plt.plot(history.history['val_accuracy'], label='Validation Accuracy')\n",
    "    plt.title('Model Accuracy')\n",
    "    plt.legend()\n",
    "    plt.show()\n",
    "    \n",
    "except Exception as e:\n",
    "    print(f\"Error during training: {e}\")"
   ]
  },
  {
   "cell_type": "markdown",
   "metadata": {},
   "source": [
    "## 2. Making Similarity Predictions\n",
    "\n",
    "Now that we have a trained model, let's use it to predict similarities between songs."
   ]
  },
  {
   "cell_type": "code",
   "execution_count": null,
   "metadata": {},
   "outputs": [],
   "source": [
    "# Get predictions for a song\n",
    "try:\n",
    "    # Get similarity scores\n",
    "    similarity_scores = creator.predict_on_song(reference_song_id)\n",
    "    print(f\"Average similarity score: {similarity_scores:.4f}\")\n",
    "    \n",
    "    # Find similar songs with their probabilities\n",
    "    similar_songs_df = creator.get_similar_songs_with_probabilities(\n",
    "        song_id=reference_song_id,\n",
    "        year_span=5  # Look within 5 years\n",
    "    )\n",
    "    \n",
    "    print(\"\\nTop 5 Most Similar Songs:\")\n",
    "    display(similar_songs_df.head())\n",
    "    \n",
    "except Exception as e:\n",
    "    print(f\"Error during prediction: {e}\")"
   ]
  },
  {
   "cell_type": "markdown",
   "metadata": {},
   "source": [
    "## 3. Creating ML-Assisted Tandas\n",
    "\n",
    "We can use our similarity predictions to help create tandas by suggesting songs that work well together."
   ]
  },
  {
   "cell_type": "code",
   "execution_count": null,
   "metadata": {},
   "outputs": [],
   "source": [
    "# Create a tanda using ML suggestions\n",
    "try:\n",
    "    # Get top similar songs\n",
    "    similar_songs_df = creator.get_similar_songs_with_probabilities(\n",
    "        song_id=reference_song_id,\n",
    "        year_span=5\n",
    "    )\n",
    "    \n",
    "    # Select top 4 songs for the tanda\n",
    "    tanda_song_ids = [reference_song_id] + similar_songs_df.head(3)['song_id'].tolist()\n",
    "    \n",
    "    # Create the tanda\n",
    "    tanda = creator.create_tanda(tanda_song_ids, tanda_number=1)\n",
    "    \n",
    "    print(\"Created ML-assisted tanda:\")\n",
    "    print(tanda)\n",
    "    \n",
    "except Exception as e:\n",
    "    print(f\"Error creating tanda: {e}\")"
   ]
  },
  {
   "cell_type": "markdown",
   "metadata": {},
   "source": [
    "## 4. Analyzing ML-Based Tandas\n",
    "\n",
    "Let's analyze the musical characteristics of our ML-generated tanda."
   ]
  },
  {
   "cell_type": "code",
   "execution_count": null,
   "metadata": {},
   "outputs": [],
   "source": [
    "# Generate overview and details\n",
    "try:\n",
    "    # Get tanda overview\n",
    "    overview_df = creator.generate_tanda_overview()\n",
    "    print(\"Tanda Overview:\")\n",
    "    display(overview_df)\n",
    "    \n",
    "    # Get detailed view\n",
    "    detail_df = creator.generate_tanda_detail()\n",
    "    print(\"\\nTanda Details:\")\n",
    "    display(detail_df)\n",
    "    \n",
    "    # Plot musical progression\n",
    "    plt.figure(figsize=(12, 4))\n",
    "    plt.subplot(1, 3, 1)\n",
    "    plt.plot(detail_df['tempo'], marker='o')\n",
    "    plt.title('Tempo Progression')\n",
    "    plt.ylabel('BPM')\n",
    "    \n",
    "    plt.subplot(1, 3, 2)\n",
    "    plt.plot(detail_df['beat_strength'], marker='o')\n",
    "    plt.title('Beat Strength Progression')\n",
    "    \n",
    "    plt.subplot(1, 3, 3)\n",
    "    plt.plot(detail_df['brightness'], marker='o')\n",
    "    plt.title('Brightness Progression')\n",
    "    \n",
    "    plt.tight_layout()\n",
    "    plt.show()\n",
    "    \n",
    "except Exception as e:\n",
    "    print(f\"Error analyzing tanda: {e}\")"
   ]
  },
  {
   "cell_type": "code",
   "execution_count": null,
   "metadata": {},
   "outputs": [],
   "source": [
    "tanda.play()"
   ]
  },
  {
   "cell_type": "markdown",
   "metadata": {},
   "source": [
    "## Best Practices for ML-Based Tanda Creation\n",
    "\n",
    "1. **Model Training**:\n",
    "   - Use representative reference songs\n",
    "   - Ensure diverse negative examples\n",
    "   - Monitor training metrics carefully\n",
    "   - Save best performing model checkpoints\n",
    "\n",
    "2. **Similarity Predictions**:\n",
    "   - Consider temporal context (year_span)\n",
    "   - Use appropriate thresholds\n",
    "   - Validate predictions against expert knowledge\n",
    "   - Consider multiple similarity aspects\n",
    "\n",
    "3. **Tanda Creation**:\n",
    "   - Balance ML suggestions with traditional rules\n",
    "   - Verify musical progression\n",
    "   - Check audio quality consistency\n",
    "   - Consider dance floor energy\n",
    "\n",
    "4. **Performance**:\n",
    "   - Cache model predictions\n",
    "   - Batch process similar songs\n",
    "   - Pre-compute common similarities\n",
    "   - Use appropriate batch sizes\n",
    "\n",
    "5. **Quality Control**:\n",
    "   - Validate ML suggestions. You can do this by listening by using play() or playex() from song objects.\n",
    "   - Keep track of model performance\n",
    "   - Document unusual cases"
   ]
  },
  {
   "cell_type": "code",
   "execution_count": null,
   "metadata": {},
   "outputs": [],
   "source": []
  }
 ],
 "metadata": {
  "kernelspec": {
   "display_name": "Python 3 (ipykernel)",
   "language": "python",
   "name": "python3"
  },
  "language_info": {
   "codemirror_mode": {
    "name": "ipython",
    "version": 3
   },
   "file_extension": ".py",
   "mimetype": "text/x-python",
   "name": "python",
   "nbconvert_exporter": "python",
   "pygments_lexer": "ipython3",
   "version": "3.8.20"
  }
 },
 "nbformat": 4,
 "nbformat_minor": 4
}
