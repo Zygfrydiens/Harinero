{
 "cells": [
  {
   "cell_type": "markdown",
   "metadata": {},
   "source": [
    "# Tanda Generator - Example\n",
    "\n",
    "This notebook demonstrates how to use the TandaGenerator to create and validate tandas automatically. The TandaGenerator helps ensure:\n",
    "- Musical consistency within tandas\n",
    "- Proper song ordering\n",
    "- Adherence to traditional tanda rules\n",
    "\n",
    "First, let's import our required components."
   ]
  },
  {
   "cell_type": "code",
   "execution_count": null,
   "metadata": {},
   "outputs": [],
   "source": [
    "from harinero import SongStruct, TandaStruct\n",
    "from harinero.core import TandaGenerator\n",
    "import pandas as pd"
   ]
  },
  {
   "cell_type": "markdown",
   "metadata": {},
   "source": [
    "## 1. Creating a TandaGenerator\n",
    "\n",
    "Let's initialize our generator and create some sample songs for demonstration."
   ]
  },
  {
   "cell_type": "code",
   "execution_count": null,
   "metadata": {},
   "outputs": [],
   "source": [
    "# Initialize the generator\n",
    "tanda_generator = TandaGenerator()\n",
    "\n",
    "# Create sample songs (using the same songs as previous example)\n",
    "songs = [\n",
    "    SongStruct(\n",
    "        song_id=1,\n",
    "        name=\"La Cumparsita\",\n",
    "        singer=\"Roberto Díaz\",\n",
    "        genre=\"Tango\",\n",
    "        track_number=1,\n",
    "        year=1928,\n",
    "        album_name=\"Golden Age Tangos Vol.1\",\n",
    "        author_name=\"Juan D'Arienzo\",\n",
    "        file_path=\"/path/to/audio.mp3\",\n",
    "        tempo=118.5,\n",
    "        beat_strength=0.8,\n",
    "        pitch=440.0,\n",
    "        brightness=0.7\n",
    "    ),\n",
    "    SongStruct(\n",
    "        song_id=2,\n",
    "        name=\"El Choclo\",\n",
    "        singer=\"Roberto Díaz\",\n",
    "        genre=\"Tango\",\n",
    "        track_number=1,\n",
    "        year=1930,\n",
    "        album_name=\"Golden Age Tangos Vol.2\",\n",
    "        author_name=\"Juan D'Arienzo\",\n",
    "        file_path=\"/path/to/audio.mp3\",\n",
    "        tempo=120.0,\n",
    "        beat_strength=0.85,\n",
    "        pitch=442.0,\n",
    "        brightness=0.72\n",
    "    ),\n",
    "    SongStruct(\n",
    "        song_id=3,\n",
    "        name=\"La Puñalada\",\n",
    "        singer=\"Roberto Díaz\",\n",
    "        genre=\"Tango\",\n",
    "        track_number=1,\n",
    "        year=1929,\n",
    "        album_name=\"Golden Age Tangos Vol.3\",\n",
    "        author_name=\"Juan D'Arienzo\",\n",
    "        file_path=\"/path/to/audio.mp3\",\n",
    "        tempo=119.0,\n",
    "        beat_strength=0.82,\n",
    "        pitch=441.0,\n",
    "        brightness=0.71\n",
    "    )\n",
    "]\n",
    "\n",
    "print(\"Created sample songs for tanda generation\")"
   ]
  },
  {
   "cell_type": "markdown",
   "metadata": {},
   "source": [
    "## 2. Creating a Tanda\n",
    "\n",
    "Now let's use the generator to create and validate a tanda. The generator will check:\n",
    "- Song count (3-4 songs)\n",
    "- Consistency of author, genre, and singer\n",
    "- Musical progression"
   ]
  },
  {
   "cell_type": "code",
   "execution_count": null,
   "metadata": {},
   "outputs": [],
   "source": [
    "# Create tanda using the generator\n",
    "try:\n",
    "    tanda = tanda_generator.create_tanda(songs, tanda_number=1)\n",
    "    print(\"Successfully created tanda!\\n\")\n",
    "    print(f\"Tanda details:\")\n",
    "    print(tanda)\n",
    "except ValueError as e:\n",
    "    print(f\"Error creating tanda: {e}\")"
   ]
  },
  {
   "cell_type": "markdown",
   "metadata": {},
   "source": [
    "## 3. Invalid Tanda Examples\n",
    "\n",
    "Let's see how the generator handles invalid tandas. We'll try creating tandas that break various rules."
   ]
  },
  {
   "cell_type": "code",
   "execution_count": null,
   "metadata": {},
   "outputs": [],
   "source": [
    "# Example 1: Too few songs\n",
    "short_songs = songs[:2]  # Only 2 songs\n",
    "try:\n",
    "    tanda = tanda_generator.create_tanda(short_songs, tanda_number=2)\n",
    "except ValueError as e:\n",
    "    print(\"Too few songs error:\", e)\n",
    "\n",
    "# Example 2: Mixed genres\n",
    "mixed_genre_song = SongStruct(\n",
    "    song_id=4,\n",
    "    name=\"El Día Que Me Quieras\",\n",
    "    singer=\"Roberto Díaz\",\n",
    "    genre=\"Vals\",  # Different genre!\n",
    "    track_number=1,\n",
    "    year=1930,\n",
    "    album_name=\"Golden Age Tangos Vol.4\",\n",
    "    author_name=\"Juan D'Arienzo\",\n",
    "    file_path=\"/path/to/audio.mp3\",\n",
    "    tempo=120.0,\n",
    "    beat_strength=0.8,\n",
    "    pitch=440.0,\n",
    "    brightness=0.7\n",
    ")\n",
    "\n",
    "mixed_songs = songs + [mixed_genre_song]\n",
    "try:\n",
    "    tanda = tanda_generator.create_tanda(mixed_songs, tanda_number=3)\n",
    "except ValueError as e:\n",
    "    print(\"\\nMixed genres error:\", e)"
   ]
  },
  {
   "cell_type": "markdown",
   "metadata": {},
   "source": [
    "## 4. Generating Overview and Details\n",
    "\n",
    "The TandaGenerator can provide overview and detailed information about all created tandas."
   ]
  },
  {
   "cell_type": "code",
   "execution_count": null,
   "metadata": {},
   "outputs": [],
   "source": [
    "# Create a few more tandas for demonstration\n",
    "vals_songs = [\n",
    "    SongStruct(\n",
    "        song_id=5,\n",
    "        name=\"Desde el Alma\",\n",
    "        singer=\"Alberto Castillo\",\n",
    "        genre=\"Vals\",\n",
    "        track_number=1,\n",
    "        year=1942,\n",
    "        album_name=\"Valses de Oro\",\n",
    "        author_name=\"Angel D'Agostino\",\n",
    "        file_path=\"/path/to/audio.mp3\",\n",
    "        tempo=90.0,\n",
    "        beat_strength=0.75,\n",
    "        pitch=438.0,\n",
    "        brightness=0.68\n",
    "    ),\n",
    "    SongStruct(\n",
    "        song_id=6,\n",
    "        name=\"Pedacito de Cielo\",\n",
    "        singer=\"Alberto Castillo\",\n",
    "        genre=\"Vals\",\n",
    "        track_number=2,\n",
    "        year=1943,\n",
    "        album_name=\"Valses de Oro\",\n",
    "        author_name=\"Angel D'Agostino\",\n",
    "        file_path=\"/path/to/audio.mp3\",\n",
    "        tempo=92.0,\n",
    "        beat_strength=0.77,\n",
    "        pitch=439.0,\n",
    "        brightness=0.69\n",
    "    ),\n",
    "    SongStruct(\n",
    "        song_id=7,\n",
    "        name=\"Romance de Barrio\",\n",
    "        singer=\"Alberto Castillo\",\n",
    "        genre=\"Vals\",\n",
    "        track_number=3,\n",
    "        year=1942,\n",
    "        album_name=\"Valses de Oro\",\n",
    "        author_name=\"Angel D'Agostino\",\n",
    "        file_path=\"/path/to/audio.mp3\",\n",
    "        tempo=91.0,\n",
    "        beat_strength=0.76,\n",
    "        pitch=438.5,\n",
    "        brightness=0.67\n",
    "    )\n",
    "]\n",
    "\n",
    "# Create second tanda\n",
    "tanda_generator.create_tanda(vals_songs, tanda_number=2)\n",
    "\n",
    "# Generate overview\n",
    "print(\"Tanda Overview:\")\n",
    "overview_df = tanda_generator.generate_milonga_overview()\n",
    "display(overview_df)\n",
    "\n",
    "print(\"\\nDetailed View:\")\n",
    "detail_df = tanda_generator.generate_milonga_detail()\n",
    "display(detail_df)"
   ]
  },
  {
   "cell_type": "markdown",
   "metadata": {},
   "source": [
    "## 5. Creating a Complete Milonga\n",
    "\n",
    "Finally, let's generate a complete milonga structure from our tandas."
   ]
  },
  {
   "cell_type": "code",
   "execution_count": null,
   "metadata": {},
   "outputs": [],
   "source": [
    "# Generate milonga structure\n",
    "milonga = tanda_generator.generate_milonga()\n",
    "\n",
    "print(\"Milonga Structure:\")\n",
    "for idx, tanda in enumerate(milonga.tandas, 1):\n",
    "    print(f\"\\nTanda {idx}:\")\n",
    "    print(f\"Genre: {tanda.genre}\")\n",
    "    print(f\"Orchestra: {tanda.author}\")\n",
    "    print(f\"Average tempo: {tanda.average_tempo:.1f} BPM\")\n",
    "    print(\"Songs:\")\n",
    "    for song in tanda.songs:\n",
    "        print(f\"- {song.name} ({song.year})\")"
   ]
  },
  {
   "cell_type": "markdown",
   "metadata": {},
   "source": [
    "## Best Practices for Using TandaGenerator\n",
    "\n",
    "1. **Input Validation**:\n",
    "   - Always check your song data before creating tandas\n",
    "   - Ensure all required fields are populated\n",
    "   - Verify audio file paths exist (can be done with playing each song of a tanda)\n",
    "\n",
    "2. **Error Handling**:\n",
    "   - Use try/except blocks when creating tandas\n",
    "   - Handle validation errors gracefully\n",
    "   - Log validation failures for debugging\n",
    "\n",
    "3. **Musical Considerations**:\n",
    "   - Consider the musical progression within tandas\n",
    "   - Pay attention to tempo changes between songs\n",
    "   - Verify audio quality consistency\n",
    "\n",
    "4. **Performance**:\n",
    "   - Create tandas in batches when possible\n",
    "   - Use the overview and detail methods for analysis\n",
    "   - Consider caching results for large datasets\n",
    "\n",
    "5. **Documentation**:\n",
    "   - Keep track of tanda metadata\n",
    "   - Document any special cases or exceptions\n",
    "   - Maintain a log of successful/failed tanda creations"
   ]
  },
  {
   "cell_type": "code",
   "execution_count": null,
   "metadata": {},
   "outputs": [],
   "source": []
  }
 ],
 "metadata": {
  "kernelspec": {
   "display_name": "Python 3 (ipykernel)",
   "language": "python",
   "name": "python3"
  },
  "language_info": {
   "codemirror_mode": {
    "name": "ipython",
    "version": 3
   },
   "file_extension": ".py",
   "mimetype": "text/x-python",
   "name": "python",
   "nbconvert_exporter": "python",
   "pygments_lexer": "ipython3",
   "version": "3.8.20"
  }
 },
 "nbformat": 4,
 "nbformat_minor": 4
}
